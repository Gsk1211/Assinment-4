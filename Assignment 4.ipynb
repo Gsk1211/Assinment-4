{
 "cells": [
  {
   "cell_type": "code",
   "execution_count": null,
   "id": "ed96b47e",
   "metadata": {},
   "outputs": [],
   "source": [
    "##Write a Python program to create a lambda function that adds 25 to a given number passed in as an argument.\n",
    "\n",
    "\n",
    "\n",
    "sample input: 10\n",
    "\n",
    "sample output: 3"
   ]
  },
  {
   "cell_type": "code",
   "execution_count": 3,
   "id": "c59984e6",
   "metadata": {},
   "outputs": [
    {
     "name": "stdout",
     "output_type": "stream",
     "text": [
      "35\n"
     ]
    }
   ],
   "source": [
    "r = lambda a : a + 25\n",
    "print(r(10))"
   ]
  },
  {
   "cell_type": "code",
   "execution_count": 7,
   "id": "26bb3c8e",
   "metadata": {
    "scrolled": true
   },
   "outputs": [
    {
     "name": "stdout",
     "output_type": "stream",
     "text": [
      "40\n"
     ]
    }
   ],
   "source": [
    "b = lambda b : b +25\n",
    "print(b(15))"
   ]
  },
  {
   "cell_type": "code",
   "execution_count": null,
   "id": "addea591",
   "metadata": {},
   "outputs": [],
   "source": [
    "##Write a Python program to triple all numbers of a given list of integers. Use Python map.\n",
    "\n",
    "\n",
    "\n",
    "sample list: [1, 2, 3, 4, 5, 6, 7]\n",
    "\n",
    "\n",
    "\n",
    "Triple of list numbers:\n",
    "\n",
    "[3, 6, 9, 12, 15, 18, 21]\n",
    "\n"
   ]
  },
  {
   "cell_type": "code",
   "execution_count": 8,
   "id": "645e184c",
   "metadata": {},
   "outputs": [
    {
     "name": "stdout",
     "output_type": "stream",
     "text": [
      "Original list:  (1, 2, 3, 4, 5, 6, 7)\n",
      "\n",
      "Triple of said list numbers:\n",
      "[3, 6, 9, 12, 15, 18, 21]\n"
     ]
    }
   ],
   "source": [
    "nums = (1, 2, 3, 4, 5, 6, 7) \n",
    "print(\"Original list: \", nums)\n",
    "result = map(lambda x: x + x + x, nums) \n",
    "print(\"\\nTriple of said list numbers:\")\n",
    "print(list(result))"
   ]
  },
  {
   "cell_type": "code",
   "execution_count": 9,
   "id": "2e1a6de1",
   "metadata": {
    "scrolled": true
   },
   "outputs": [
    {
     "name": "stdout",
     "output_type": "stream",
     "text": [
      ": (1, 6, 4, 8, 9, 7, 5, 11)\n",
      "/n:\n",
      "[3, 18, 12, 24, 27, 21, 15, 33]\n"
     ]
    }
   ],
   "source": [
    "nums = (1,6,4,8,9,7,5,11)\n",
    "print(\":\",nums)\n",
    "result = map(lambda x:x+x+x, nums)\n",
    "print(\"/n:\")\n",
    "print(list(result))"
   ]
  },
  {
   "cell_type": "code",
   "execution_count": null,
   "id": "679fe7fd",
   "metadata": {},
   "outputs": [],
   "source": [
    "##Write a Python program to square the elements of a list using map() function.\n",
    "\n",
    "\n",
    "\n",
    "Sample List: [4, 5, 2, 9]\n",
    "\n",
    "Square the elements of the list:\n",
    "\n",
    "[16, 25, 4, 81]"
   ]
  },
  {
   "cell_type": "code",
   "execution_count": 10,
   "id": "7503546d",
   "metadata": {
    "scrolled": true
   },
   "outputs": [
    {
     "name": "stdout",
     "output_type": "stream",
     "text": [
      "Original List:  [4, 5, 2, 9]\n",
      "Square the elements of the said list using map():\n",
      "[16, 25, 4, 81]\n"
     ]
    }
   ],
   "source": [
    "def square_num(n):\n",
    "  return n * n\n",
    "nums = [4, 5, 2, 9]\n",
    "print(\"Original List: \",nums)\n",
    "result = map(square_num, nums)\n",
    "print(\"Square the elements of the said list using map():\")\n",
    "print(list(result))"
   ]
  },
  {
   "cell_type": "code",
   "execution_count": 13,
   "id": "d6f4cc68",
   "metadata": {},
   "outputs": [
    {
     "name": "stdout",
     "output_type": "stream",
     "text": [
      ":  [4, 5, 2, 9]\n",
      "():\n",
      "[16, 25, 4, 81]\n"
     ]
    }
   ],
   "source": [
    "def square_num(n):\n",
    "  return n * n\n",
    "nums = [4, 5, 2, 9]\n",
    "print(\": \",nums)\n",
    "result = map(square_num, nums)\n",
    "print(\"():\")\n",
    "print(list(result))"
   ]
  },
  {
   "cell_type": "code",
   "execution_count": null,
   "id": "736ba5cd",
   "metadata": {},
   "outputs": [],
   "source": []
  }
 ],
 "metadata": {
  "kernelspec": {
   "display_name": "Python 3",
   "language": "python",
   "name": "python3"
  },
  "language_info": {
   "codemirror_mode": {
    "name": "ipython",
    "version": 3
   },
   "file_extension": ".py",
   "mimetype": "text/x-python",
   "name": "python",
   "nbconvert_exporter": "python",
   "pygments_lexer": "ipython3",
   "version": "3.8.8"
  }
 },
 "nbformat": 4,
 "nbformat_minor": 5
}
